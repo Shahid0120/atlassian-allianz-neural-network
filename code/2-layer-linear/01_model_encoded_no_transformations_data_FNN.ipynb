{
  "nbformat": 4,
  "nbformat_minor": 0,
  "metadata": {
    "colab": {
      "provenance": [],
      "authorship_tag": "ABX9TyPSur8vY6M5XvoMRCaaeXW1",
      "include_colab_link": true
    },
    "kernelspec": {
      "name": "python3",
      "display_name": "Python 3"
    },
    "language_info": {
      "name": "python"
    }
  },
  "cells": [
    {
      "cell_type": "markdown",
      "metadata": {
        "id": "view-in-github",
        "colab_type": "text"
      },
      "source": [
        "<a href=\"https://colab.research.google.com/github/Shahid0120/atlassian-allianz-neural-network/blob/main/01_model_encoded_no_transformations_data_FNN.ipynb\" target=\"_parent\"><img src=\"https://colab.research.google.com/assets/colab-badge.svg\" alt=\"Open In Colab\"/></a>"
      ]
    },
    {
      "cell_type": "markdown",
      "source": [
        "# FNN using 'encoded-no-transformations.csv'\n",
        "In this notebook i will create a FNN on the 'encoded-no-transformations.csv' using Pytorch to correctly classify wheather a claim was fraudulant or not"
      ],
      "metadata": {
        "id": "m3R913UDqBHM"
      }
    },
    {
      "cell_type": "code",
      "source": [
        "import numpy as np\n",
        "import scipy\n",
        "import matplotlib.pyplot as plt\n",
        "import pandas as pd\n",
        "import torch\n",
        "from torch import nn\n",
        "from pathlib import Path\n",
        "from torch.optim.sgd import SGD"
      ],
      "metadata": {
        "id": "TjQ0NLfTqp_b"
      },
      "execution_count": 1,
      "outputs": []
    },
    {
      "cell_type": "code",
      "source": [
        "# Cloning Repo\n",
        "!git config --global user.name \"Shahid0120\"\n",
        "!git config --global user.email \"shahid.hussain0120@gmail.com\"\n",
        "!git config --global user.password \"Acct3905^&\"\n",
        "\n",
        "# token =\n",
        "username = 'Shahid0120'\n",
        "repo='atlassian-allianz-neural-network'\n",
        "\n",
        "!git clone https://{token}@github.com/{username}/{repo}"
      ],
      "metadata": {
        "colab": {
          "base_uri": "https://localhost:8080/"
        },
        "id": "ediGRqm4q3gG",
        "outputId": "843042e4-0835-4a71-9dfe-5ce9f6127980"
      },
      "execution_count": 2,
      "outputs": [
        {
          "output_type": "stream",
          "name": "stdout",
          "text": [
            "fatal: destination path 'atlassian-allianz-neural-network' already exists and is not an empty directory.\n"
          ]
        }
      ]
    },
    {
      "cell_type": "markdown",
      "source": [
        "# Load Data"
      ],
      "metadata": {
        "id": "Um3cTCW104mA"
      }
    },
    {
      "cell_type": "code",
      "source": [
        "# Loading Data\n",
        "dataPath = './atlassian-allianz-neural-network/data/01_encoded_no_transformations/01_encoded_no_transformations.csv'\n",
        "data = pd.read_csv(dataPath)\n",
        "\n",
        "X = data.drop(columns=['fraud_reported'])\n",
        "Y = data['fraud_reported']\n",
        "\n",
        "len(Y), len(X)"
      ],
      "metadata": {
        "colab": {
          "base_uri": "https://localhost:8080/"
        },
        "id": "U9UH1p9esn0W",
        "outputId": "7c33d1ec-a60a-47e0-d29f-d01f2c258274"
      },
      "execution_count": 3,
      "outputs": [
        {
          "output_type": "execute_result",
          "data": {
            "text/plain": [
              "(2964, 2964)"
            ]
          },
          "metadata": {},
          "execution_count": 3
        }
      ]
    },
    {
      "cell_type": "markdown",
      "source": [
        "# Check Shape of Data and sample data"
      ],
      "metadata": {
        "id": "xtApuDU50MLL"
      }
    },
    {
      "cell_type": "code",
      "source": [
        "X.shape, Y.shape"
      ],
      "metadata": {
        "id": "NDrj6IFC0y0T",
        "colab": {
          "base_uri": "https://localhost:8080/"
        },
        "outputId": "69355dd7-3e64-4b97-8d23-39d8fffd766f"
      },
      "execution_count": 4,
      "outputs": [
        {
          "output_type": "execute_result",
          "data": {
            "text/plain": [
              "((2964, 124), (2964,))"
            ]
          },
          "metadata": {},
          "execution_count": 4
        }
      ]
    },
    {
      "cell_type": "code",
      "source": [
        "X_sample = X.iloc[0]\n",
        "Y_sample = Y.iloc[0]\n",
        "print(f\"Values for the X sample in index 0 : \\n{X_sample}\")\n",
        "print(f\"Values for the Y sample in index 0 : {Y_sample}\")\n"
      ],
      "metadata": {
        "id": "tJKk6GO95Cph",
        "colab": {
          "base_uri": "https://localhost:8080/"
        },
        "outputId": "d44ad0f1-d8a4-4003-d54d-8eb2cf98ff0d"
      },
      "execution_count": 5,
      "outputs": [
        {
          "output_type": "stream",
          "name": "stdout",
          "text": [
            "Values for the X sample in index 0 : \n",
            "months_as_customer       0.556485\n",
            "age                      0.466667\n",
            "policy_deductable        0.000000\n",
            "policy_annual_premium    0.447388\n",
            "umbrella_limit           0.545455\n",
            "                           ...   \n",
            "auto_model_Tahoe         0.000000\n",
            "auto_model_Ultima        0.000000\n",
            "auto_model_Wrangler      0.000000\n",
            "auto_model_X5            0.000000\n",
            "auto_model_X6            0.000000\n",
            "Name: 0, Length: 124, dtype: float64\n",
            "Values for the Y sample in index 0 : 0.0\n"
          ]
        }
      ]
    },
    {
      "cell_type": "markdown",
      "source": [
        "# Turn data into tensors and create test/train split"
      ],
      "metadata": {
        "id": "kIXWacGl56iF"
      }
    },
    {
      "cell_type": "code",
      "source": [
        "# X/Y is initally a DataFrame\n",
        "X_ndarray = X.to_numpy()\n",
        "Y_ndarray = Y.to_numpy()\n",
        "\n",
        "# Convert to Tensor\n",
        "X = torch.from_numpy(X_ndarray).type(torch.float)\n",
        "Y = torch.from_numpy(Y_ndarray)\n"
      ],
      "metadata": {
        "id": "qXY_KvKE6X1r"
      },
      "execution_count": 6,
      "outputs": []
    },
    {
      "cell_type": "code",
      "source": [
        "print(f\"X is now a {type(X)} and X[0] has the lenght of\\n {len(X[0])} which is the number of features\")"
      ],
      "metadata": {
        "id": "7KSXmUfc73Rz",
        "colab": {
          "base_uri": "https://localhost:8080/"
        },
        "outputId": "271a096d-18f2-4df4-872a-035b57deae1c"
      },
      "execution_count": 7,
      "outputs": [
        {
          "output_type": "stream",
          "name": "stdout",
          "text": [
            "X is now a <class 'torch.Tensor'> and X[0] has the lenght of\n",
            " 124 which is the number of features\n"
          ]
        }
      ]
    },
    {
      "cell_type": "code",
      "source": [
        "# Split Tensors into Train and Test sets\n",
        "from sklearn.model_selection import train_test_split\n",
        "\n",
        "X_train, X_test, Y_train, Y_test = train_test_split(\n",
        "    X,\n",
        "    Y,\n",
        "    test_size = 0.1,\n",
        "    random_state=42\n",
        ")\n",
        "\n",
        "len(X_train), len(X_test), len(Y_train), len(Y_test)\n",
        "\n",
        "print(f\"The shape of X_train is {X_train.shape}\")"
      ],
      "metadata": {
        "id": "rtYBp9Af8LlM",
        "colab": {
          "base_uri": "https://localhost:8080/"
        },
        "outputId": "edd462bd-4777-4fdc-ea44-7e303b63113a"
      },
      "execution_count": 8,
      "outputs": [
        {
          "output_type": "stream",
          "name": "stdout",
          "text": [
            "The shape of X_train is torch.Size([2667, 124])\n"
          ]
        }
      ]
    },
    {
      "cell_type": "markdown",
      "source": [
        "# Create Baseline Model"
      ],
      "metadata": {
        "id": "JH65uNsY9iSM"
      }
    },
    {
      "cell_type": "code",
      "source": [
        "# Make device agnostic\n",
        "#device = \"cuda\" if torch.cuda.is_available() else \"cpu\"\n",
        "device = \"cpu\"\n",
        "\n",
        "# Model\n",
        "class FraudModelV0(nn.Module):\n",
        "  def __init__(self):\n",
        "    super().__init__()\n",
        "    self.layer_1 = nn.Linear(in_features=124, out_features=5)\n",
        "    self.layer_2 = nn.Linear(in_features=5, out_features=1)\n",
        "\n",
        "  def forward(self, x):\n",
        "    return self.layer_2(self.layer_1(x))\n",
        "\n",
        "# Instance of Model\n",
        "model_0 = FraudModelV0().to(device)\n",
        "model_0"
      ],
      "metadata": {
        "id": "xGGvsn4b9l9K",
        "colab": {
          "base_uri": "https://localhost:8080/"
        },
        "outputId": "27556ccb-c20b-44b8-ca0c-75a294d49fb5"
      },
      "execution_count": 9,
      "outputs": [
        {
          "output_type": "execute_result",
          "data": {
            "text/plain": [
              "FraudModelV0(\n",
              "  (layer_1): Linear(in_features=124, out_features=5, bias=True)\n",
              "  (layer_2): Linear(in_features=5, out_features=1, bias=True)\n",
              ")"
            ]
          },
          "metadata": {},
          "execution_count": 9
        }
      ]
    },
    {
      "cell_type": "code",
      "source": [
        "print(model_0.state_dict())"
      ],
      "metadata": {
        "id": "-fEudxAQO4fn",
        "colab": {
          "base_uri": "https://localhost:8080/"
        },
        "outputId": "de4d2210-1eb9-44e2-f308-37d793267ed2"
      },
      "execution_count": 10,
      "outputs": [
        {
          "output_type": "stream",
          "name": "stdout",
          "text": [
            "OrderedDict([('layer_1.weight', tensor([[-0.0644,  0.0459,  0.0699,  0.0874, -0.0286, -0.0497,  0.0855, -0.0845,\n",
            "          0.0662,  0.0350, -0.0257, -0.0884, -0.0375, -0.0422, -0.0277,  0.0061,\n",
            "          0.0889,  0.0767,  0.0671, -0.0878,  0.0595, -0.0738,  0.0850, -0.0075,\n",
            "          0.0528, -0.0249, -0.0079, -0.0706,  0.0024,  0.0784,  0.0018, -0.0379,\n",
            "          0.0399,  0.0250, -0.0306,  0.0146,  0.0747,  0.0630,  0.0715, -0.0711,\n",
            "         -0.0465,  0.0284,  0.0366, -0.0684, -0.0657, -0.0650, -0.0447, -0.0040,\n",
            "          0.0800,  0.0269,  0.0605,  0.0532, -0.0021,  0.0409, -0.0443, -0.0061,\n",
            "         -0.0253, -0.0148, -0.0347,  0.0240,  0.0486,  0.0277,  0.0513, -0.0586,\n",
            "          0.0398,  0.0741,  0.0868, -0.0638, -0.0427,  0.0082,  0.0284,  0.0575,\n",
            "         -0.0396, -0.0175,  0.0073,  0.0270,  0.0481, -0.0287,  0.0153,  0.0246,\n",
            "         -0.0036, -0.0687,  0.0340, -0.0810,  0.0199,  0.0617, -0.0240,  0.0488,\n",
            "          0.0751,  0.0745,  0.0702, -0.0497, -0.0800,  0.0601, -0.0827, -0.0643,\n",
            "          0.0577, -0.0443,  0.0041, -0.0741,  0.0292,  0.0432, -0.0153,  0.0796,\n",
            "         -0.0838, -0.0390, -0.0653, -0.0259, -0.0806,  0.0697,  0.0445,  0.0350,\n",
            "         -0.0836,  0.0130,  0.0393,  0.0418,  0.0564,  0.0411, -0.0832, -0.0869,\n",
            "         -0.0206,  0.0724,  0.0595, -0.0827],\n",
            "        [-0.0496, -0.0190,  0.0498,  0.0683, -0.0867, -0.0600, -0.0171,  0.0550,\n",
            "         -0.0621, -0.0054,  0.0765, -0.0271,  0.0638,  0.0524,  0.0867,  0.0104,\n",
            "         -0.0354, -0.0374,  0.0579, -0.0365,  0.0845, -0.0126, -0.0284, -0.0164,\n",
            "         -0.0723, -0.0164, -0.0283, -0.0404, -0.0631, -0.0061, -0.0360,  0.0151,\n",
            "         -0.0786, -0.0123,  0.0674,  0.0894, -0.0165, -0.0562, -0.0192,  0.0088,\n",
            "          0.0082, -0.0470, -0.0534, -0.0471, -0.0419,  0.0058, -0.0058, -0.0156,\n",
            "          0.0129,  0.0675,  0.0284, -0.0775,  0.0456, -0.0360, -0.0106,  0.0095,\n",
            "         -0.0835,  0.0248, -0.0744,  0.0154, -0.0241, -0.0558, -0.0222, -0.0151,\n",
            "         -0.0492, -0.0504, -0.0020,  0.0117, -0.0829,  0.0491,  0.0623, -0.0400,\n",
            "          0.0758,  0.0436,  0.0146, -0.0634, -0.0278, -0.0444, -0.0078, -0.0080,\n",
            "         -0.0539,  0.0791, -0.0491, -0.0841, -0.0236, -0.0501, -0.0458, -0.0366,\n",
            "          0.0897, -0.0334, -0.0360, -0.0526,  0.0504, -0.0282,  0.0115, -0.0277,\n",
            "         -0.0833,  0.0193,  0.0609, -0.0585, -0.0475,  0.0244, -0.0858, -0.0361,\n",
            "          0.0655,  0.0283, -0.0515,  0.0014, -0.0338,  0.0425, -0.0532, -0.0751,\n",
            "         -0.0153, -0.0490,  0.0689, -0.0895, -0.0640,  0.0377,  0.0240,  0.0486,\n",
            "          0.0196,  0.0213,  0.0167,  0.0107],\n",
            "        [ 0.0888,  0.0301, -0.0800,  0.0733, -0.0563, -0.0084, -0.0373,  0.0273,\n",
            "          0.0262, -0.0152,  0.0293, -0.0118, -0.0063,  0.0401, -0.0864, -0.0104,\n",
            "          0.0489,  0.0224, -0.0536, -0.0279,  0.0651, -0.0711, -0.0070,  0.0893,\n",
            "         -0.0733,  0.0529,  0.0170,  0.0212,  0.0897, -0.0721,  0.0758, -0.0746,\n",
            "          0.0827,  0.0763, -0.0891, -0.0286, -0.0344, -0.0278,  0.0112,  0.0397,\n",
            "         -0.0725,  0.0585,  0.0136,  0.0447, -0.0244,  0.0370, -0.0367,  0.0339,\n",
            "          0.0218, -0.0852, -0.0556, -0.0063,  0.0529,  0.0016, -0.0496, -0.0736,\n",
            "          0.0289,  0.0530,  0.0446, -0.0242, -0.0498,  0.0789, -0.0441,  0.0381,\n",
            "         -0.0242, -0.0109,  0.0870, -0.0079, -0.0193,  0.0831,  0.0015,  0.0821,\n",
            "          0.0597,  0.0080, -0.0163,  0.0587,  0.0740,  0.0648, -0.0359, -0.0046,\n",
            "         -0.0845, -0.0753, -0.0603,  0.0830, -0.0045, -0.0523,  0.0691, -0.0650,\n",
            "          0.0676, -0.0809,  0.0834, -0.0720,  0.0739,  0.0891,  0.0894,  0.0227,\n",
            "         -0.0725,  0.0439, -0.0441, -0.0831, -0.0522, -0.0763,  0.0762,  0.0620,\n",
            "          0.0843, -0.0371,  0.0606, -0.0681,  0.0713,  0.0621, -0.0090,  0.0790,\n",
            "         -0.0272,  0.0092,  0.0390, -0.0314, -0.0053, -0.0535, -0.0190,  0.0891,\n",
            "         -0.0114, -0.0762, -0.0039,  0.0852],\n",
            "        [ 0.0031,  0.0601,  0.0757,  0.0555, -0.0583,  0.0378,  0.0050, -0.0656,\n",
            "         -0.0642,  0.0748,  0.0631, -0.0642, -0.0236, -0.0167, -0.0769, -0.0011,\n",
            "         -0.0812, -0.0151, -0.0801, -0.0649,  0.0638,  0.0612,  0.0820,  0.0472,\n",
            "         -0.0371,  0.0461,  0.0017,  0.0332,  0.0873,  0.0617, -0.0273, -0.0824,\n",
            "         -0.0689,  0.0396, -0.0316, -0.0364, -0.0475,  0.0106, -0.0330,  0.0324,\n",
            "          0.0725,  0.0050, -0.0849, -0.0229, -0.0707, -0.0835, -0.0139,  0.0171,\n",
            "          0.0274,  0.0544,  0.0763,  0.0862,  0.0842, -0.0809,  0.0646,  0.0880,\n",
            "         -0.0713,  0.0330, -0.0150,  0.0372, -0.0302, -0.0679, -0.0055, -0.0041,\n",
            "          0.0890, -0.0894,  0.0542,  0.0099, -0.0240,  0.0692,  0.0876,  0.0696,\n",
            "         -0.0869, -0.0444,  0.0433, -0.0569, -0.0714,  0.0189,  0.0588, -0.0476,\n",
            "         -0.0257, -0.0779,  0.0413,  0.0194, -0.0455, -0.0840,  0.0835,  0.0723,\n",
            "         -0.0857,  0.0759,  0.0206,  0.0069, -0.0592, -0.0844,  0.0563, -0.0778,\n",
            "          0.0862, -0.0655, -0.0651,  0.0400,  0.0346, -0.0229, -0.0363,  0.0090,\n",
            "          0.0153, -0.0006,  0.0200, -0.0142, -0.0567,  0.0733,  0.0451,  0.0365,\n",
            "          0.0670,  0.0318,  0.0313, -0.0443, -0.0086, -0.0415, -0.0299, -0.0215,\n",
            "          0.0029, -0.0717, -0.0131,  0.0872],\n",
            "        [ 0.0368,  0.0657, -0.0321,  0.0671,  0.0521,  0.0423, -0.0769,  0.0497,\n",
            "         -0.0447, -0.0275, -0.0195, -0.0095,  0.0087, -0.0427, -0.0586,  0.0793,\n",
            "          0.0050,  0.0731,  0.0322, -0.0095,  0.0412, -0.0625, -0.0896,  0.0028,\n",
            "         -0.0338,  0.0128, -0.0783,  0.0862, -0.0385,  0.0399,  0.0126, -0.0316,\n",
            "         -0.0126,  0.0866,  0.0622, -0.0598,  0.0029, -0.0399, -0.0381,  0.0484,\n",
            "         -0.0250, -0.0869,  0.0441, -0.0671, -0.0891, -0.0728, -0.0529, -0.0257,\n",
            "         -0.0863,  0.0369, -0.0462,  0.0807, -0.0250,  0.0391,  0.0777, -0.0479,\n",
            "         -0.0482, -0.0752,  0.0169,  0.0725, -0.0115, -0.0554,  0.0650, -0.0857,\n",
            "          0.0663, -0.0060, -0.0675,  0.0069,  0.0717, -0.0254, -0.0185,  0.0345,\n",
            "          0.0458, -0.0354, -0.0764,  0.0708,  0.0659, -0.0012,  0.0386,  0.0447,\n",
            "         -0.0734, -0.0166, -0.0079, -0.0228,  0.0207, -0.0027, -0.0036,  0.0441,\n",
            "          0.0701,  0.0306,  0.0035,  0.0804, -0.0241, -0.0071,  0.0409,  0.0681,\n",
            "          0.0889,  0.0277, -0.0384, -0.0638, -0.0598, -0.0772,  0.0400, -0.0654,\n",
            "         -0.0612,  0.0796, -0.0819,  0.0660,  0.0244,  0.0292,  0.0558, -0.0422,\n",
            "         -0.0678,  0.0414,  0.0791, -0.0204, -0.0315,  0.0774, -0.0683, -0.0443,\n",
            "          0.0328,  0.0308, -0.0464, -0.0538]])), ('layer_1.bias', tensor([-0.0457, -0.0338, -0.0844,  0.0306,  0.0782])), ('layer_2.weight', tensor([[ 0.2362, -0.2309, -0.2541,  0.3831,  0.1204]])), ('layer_2.bias', tensor([-0.2937]))])\n"
          ]
        }
      ]
    },
    {
      "cell_type": "code",
      "source": [
        "# Prediction with random Initialized Weight\n",
        "with torch.inference_mode():\n",
        "  untrained_Y_pred = model_0(X_test)\n",
        "\n",
        "print(f\"The Length of untrained predictions {len(untrained_Y_pred)} and the shape {untrained_Y_pred.shape} \")\n",
        "print(f\"The Length of the Y test {len(Y_test)} and the shape of Y test {Y_test.shape}\")\n",
        "print(f\"The first 5 label of untrained Y {Y[:5]} vs Y_test {Y_test[:5]}\")"
      ],
      "metadata": {
        "id": "Hce95qX9O_gG",
        "colab": {
          "base_uri": "https://localhost:8080/"
        },
        "outputId": "7472e3e6-b9fe-4555-e4f3-10a60ad93195"
      },
      "execution_count": 11,
      "outputs": [
        {
          "output_type": "stream",
          "name": "stdout",
          "text": [
            "The Length of untrained predictions 297 and the shape torch.Size([297, 1]) \n",
            "The Length of the Y test 297 and the shape of Y test torch.Size([297])\n",
            "The first 5 label of untrained Y tensor([0., 0., 0., 0., 0.], dtype=torch.float64) vs Y_test tensor([1., 0., 0., 0., 1.], dtype=torch.float64)\n"
          ]
        }
      ]
    },
    {
      "cell_type": "code",
      "source": [
        "# loss function and gradient descent algorithm\n",
        "loss_fn = nn.BCEWithLogitsLoss() # sigmoid activation inside\n",
        "optimizer  = SGD(params=model_0.parameters(), lr=0.01)\n",
        "\n",
        "# Calculate Accuracy\n",
        "def accuracy(y_true, y_pred):\n",
        "  sum_correct = torch.eq(y_true, y_pred).sum().item()\n",
        "  accuracy = (sum_correct / len(y_pred)) * 100\n",
        "  return accuracy\n",
        "\n",
        "# Put into right device\n",
        "X_train, Y_train = X_train.to(device), Y_train.to(device)\n",
        "X_test, Y_test = X_test.to(device), Y_test.to(device)\n",
        "\n",
        "epochs = 10000\n",
        "\n",
        "test_loss_arr = []\n",
        "train_loss_arr = []\n",
        "test_acuracy_arr = []\n",
        "train_acuracy_arr = []\n",
        "\n",
        "for epoch in range(epochs):\n",
        "    # Train model\n",
        "    model_0.train()\n",
        "\n",
        "    # Forward pass\n",
        "    Y_logits = model_0(X_train).squeeze()\n",
        "    Y_probs = torch.round(torch.sigmoid(Y_logits))\n",
        "\n",
        "    # Compute loss and accuracy for training\n",
        "    loss = loss_fn(Y_logits, Y_train)\n",
        "    train_loss_arr.append(loss.item())\n",
        "    accuracy_train = accuracy(Y_train, Y_probs)\n",
        "    train_acuracy_arr.append(accuracy_train)\n",
        "    # Zero the gradients\n",
        "    optimizer.zero_grad()\n",
        "\n",
        "    # Backward pass\n",
        "    loss.backward()\n",
        "\n",
        "    # Step the optimizer\n",
        "    optimizer.step()\n",
        "\n",
        "    # Set the model to evaluation mode\n",
        "    model_0.eval()\n",
        "\n",
        "    # Inference on test data\n",
        "    with torch.inference_mode():\n",
        "        Y_test_logits = model_0(X_test).squeeze()\n",
        "        Y_test_probs = torch.round(torch.sigmoid(Y_test_logits))\n",
        "\n",
        "        # Compute loss and accuracy for testing\n",
        "        test_loss = loss_fn(Y_test_logits, Y_test)\n",
        "        test_loss_arr.append(test_loss.item())\n",
        "        accuracy_test = accuracy(Y_test, Y_test_probs)\n",
        "        test_acuracy_arr.append(accuracy_test)\n",
        "\n",
        "    # Print results at each epoch\n",
        "    if epoch % 1000 == 0:\n",
        "        print(f\"Epoch {epoch} | Train Loss: {loss.item():.4f} | Train Accuracy: {accuracy_train:.2f} | Test Loss: {test_loss.item():.4f} | Test Accuracy: {accuracy_test:.2f}\")\n",
        "\n",
        "plt.figure(1)\n",
        "plt.plot(np.arange(epochs), train_loss_arr, label='train-loss')\n",
        "plt.plot(np.arange(epochs), test_loss_arr, label='test-loss', color='red')\n",
        "plt.xlabel(\"Epoch\")\n",
        "plt.ylabel(\"Loss\")\n",
        "plt.title(\"Traing and test losss\")\n",
        "plt.legend()\n",
        "plt.show()\n",
        "\n",
        "plt.figure(2)\n",
        "plt.plot(np.arange(epochs), test_acuracy_arr, label='test-accuracy')\n",
        "plt.plot(np.arange(epochs), train_acuracy_arr, label='train-accuracy')\n",
        "plt.xlabel(\"Epoch\")\n",
        "plt.ylabel(\"Percentage Accuracy\")\n",
        "plt.title(\"Accuracy on Train and Test\")\n",
        "plt.legend()\n",
        "plt.show()\n",
        "\n",
        ""
      ],
      "metadata": {
        "id": "eSG3d9Y8QCTV",
        "colab": {
          "base_uri": "https://localhost:8080/",
          "height": 1000
        },
        "outputId": "8fd39a2a-be7c-41c5-87e6-70878e7373d4"
      },
      "execution_count": 17,
      "outputs": [
        {
          "output_type": "stream",
          "name": "stdout",
          "text": [
            "Epoch 0 | Train Loss: 0.1971 | Train Accuracy: 93.29 | Test Loss: 0.2212 | Test Accuracy: 93.27\n",
            "Epoch 1000 | Train Loss: 0.1966 | Train Accuracy: 93.36 | Test Loss: 0.2211 | Test Accuracy: 93.27\n",
            "Epoch 2000 | Train Loss: 0.1962 | Train Accuracy: 93.44 | Test Loss: 0.2210 | Test Accuracy: 93.27\n",
            "Epoch 3000 | Train Loss: 0.1959 | Train Accuracy: 93.44 | Test Loss: 0.2208 | Test Accuracy: 93.27\n",
            "Epoch 4000 | Train Loss: 0.1955 | Train Accuracy: 93.59 | Test Loss: 0.2208 | Test Accuracy: 93.27\n",
            "Epoch 5000 | Train Loss: 0.1953 | Train Accuracy: 93.63 | Test Loss: 0.2207 | Test Accuracy: 93.27\n",
            "Epoch 6000 | Train Loss: 0.1950 | Train Accuracy: 93.66 | Test Loss: 0.2206 | Test Accuracy: 93.27\n",
            "Epoch 7000 | Train Loss: 0.1948 | Train Accuracy: 93.63 | Test Loss: 0.2206 | Test Accuracy: 93.27\n",
            "Epoch 8000 | Train Loss: 0.1946 | Train Accuracy: 93.63 | Test Loss: 0.2206 | Test Accuracy: 93.27\n",
            "Epoch 9000 | Train Loss: 0.1944 | Train Accuracy: 93.63 | Test Loss: 0.2206 | Test Accuracy: 93.27\n"
          ]
        },
        {
          "output_type": "display_data",
          "data": {
            "text/plain": [
              "<Figure size 640x480 with 1 Axes>"
            ],
            "image/png": "[encoded data removed]"
          },
          "metadata": {}
        },
        {
          "output_type": "display_data",
          "data": {
            "text/plain": [
              "<Figure size 640x480 with 1 Axes>"
            ],
            "image/png": "[encoded data removed]"
          },
          "metadata": {}
        }
      ]
    },
    {
      "cell_type": "code",
      "source": [],
      "metadata": {
        "colab": {
          "base_uri": "https://localhost:8080/"
        },
        "id": "LQKk0OOLIcUo",
        "outputId": "8c8569a1-b35a-4e81-d791-f06218f981d2"
      },
      "execution_count": 23,
      "outputs": [
        {
          "output_type": "stream",
          "name": "stdout",
          "text": [
            "fatal: not a git repository (or any of the parent directories): .git\n"
          ]
        }
      ]
    }
  ]
}